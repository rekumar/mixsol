{
 "cells": [
  {
   "cell_type": "code",
   "execution_count": 1,
   "metadata": {},
   "outputs": [],
   "source": [
    "import numpy as np\n",
    "import matplotlib.pyplot as plt\n",
    "from mixsol import Powder, Solution, Weigher, Mixer, calculate_molar_mass"
   ]
  },
  {
   "cell_type": "markdown",
   "metadata": {},
   "source": [
    "# Powder Weighing"
   ]
  },
  {
   "cell_type": "code",
   "execution_count": 2,
   "metadata": {},
   "outputs": [],
   "source": [
    "powders = [\n",
    "    Powder('Cs_I'),\n",
    "    Powder('Pb_I2'),\n",
    "    Powder('Pb_Br2'),\n",
    "    Powder('Pb_Cl2'),\n",
    "    Powder(\n",
    "        formula='MA_I',\n",
    "        molar_mass=calculate_molar_mass('C_H6_N_I'),\n",
    "        alias='MAI',\n",
    "    ),\n",
    "    Powder(\n",
    "        formula='FA_I',\n",
    "        molar_mass = calculate_molar_mass('C_H5_N2_I'),\n",
    "        alias='FAI',\n",
    "        )\n",
    "]\n",
    "\n",
    "weigher = Weigher(\n",
    "    powders=powders\n",
    ")"
   ]
  },
  {
   "cell_type": "code",
   "execution_count": 3,
   "metadata": {},
   "outputs": [
    {
     "name": "stdout",
     "output_type": "stream",
     "text": [
      "{'Cs_I': 0.012990496098, 'Pb1_I2': 0.322706258, 'Pb_Br2': 0.082576575, 'Pb_Cl2': 0.020857935, 'MAI': 0.02384543385, 'FAI': 0.1375746568}\n"
     ]
    }
   ],
   "source": [
    "target=Solution(\n",
    "    solutes='Cs0.05_FA0.8_MA0.15_Pb_I2.4_Br0.45_Cl0.15',\n",
    "    solvent='DMF9_DMSO1',\n",
    "    molarity=1\n",
    ")\n",
    "\n",
    "answer = weigher.get_weights(\n",
    "    target,\n",
    "    volume=1e-3, #in L\n",
    ")\n",
    "print(answer) #masses of each powder, in grams"
   ]
  },
  {
   "cell_type": "code",
   "execution_count": 4,
   "metadata": {},
   "outputs": [
    {
     "data": {
      "text/plain": [
       "{'Cs': 0.05,\n",
       " 'FA': 0.8,\n",
       " 'MA': 0.15,\n",
       " 'Pb': 1.0,\n",
       " 'I': 2.4,\n",
       " 'Br': 0.45,\n",
       " 'Cl': 0.15}"
      ]
     },
     "execution_count": 4,
     "metadata": {},
     "output_type": "execute_result"
    }
   ],
   "source": [
    "target.solutes"
   ]
  },
  {
   "cell_type": "code",
   "execution_count": 5,
   "metadata": {},
   "outputs": [
    {
     "name": "stdout",
     "output_type": "stream",
     "text": [
      "2.4M MA0.0625_Cs0.0208_Pb0.417_Cl0.0625_Br0.188_FA0.333_I in DMF0.9_DMSO0.1\n"
     ]
    }
   ],
   "source": [
    "result = weigher.weights_to_solution(\n",
    "    weights=answer,\n",
    "    volume=1e-3,\n",
    "    solvent='DMF9_DMSO1',\n",
    "    # molarity=\n",
    ")\n",
    "print(result)"
   ]
  },
  {
   "cell_type": "code",
   "execution_count": 6,
   "metadata": {},
   "outputs": [
    {
     "name": "stdout",
     "output_type": "stream",
     "text": [
      "1M MA0.15_Cs0.05_Pb_Cl0.15_Br0.45_FA0.8_I2.4 in DMF0.9_DMSO0.1\n"
     ]
    }
   ],
   "source": [
    "result2 = weigher.weights_to_solution(\n",
    "    weights=answer,\n",
    "    volume=1e-3,\n",
    "    solvent='DMF9_DMSO1',\n",
    "    molarity='Pb'\n",
    ")\n",
    "print(result2)"
   ]
  },
  {
   "cell_type": "code",
   "execution_count": 9,
   "metadata": {},
   "outputs": [
    {
     "data": {
      "text/plain": [
       "True"
      ]
     },
     "execution_count": 9,
     "metadata": {},
     "output_type": "execute_result"
    }
   ],
   "source": [
    "result == result2"
   ]
  },
  {
   "cell_type": "markdown",
   "metadata": {},
   "source": [
    "# Solutions"
   ]
  },
  {
   "cell_type": "code",
   "execution_count": 10,
   "metadata": {},
   "outputs": [],
   "source": [
    "stock_solutions = [\n",
    "    Solution(\n",
    "        solutes='FA_Pb_I3',\n",
    "        solvent='DMF9_DMSO1',\n",
    "        molarity=1,\n",
    "        alias='FAPI'\n",
    "    ),\n",
    "    Solution(\n",
    "        solutes='MA_Pb_I3',\n",
    "        solvent='DMF9_DMSO1',\n",
    "        molarity=1,\n",
    "        alias='MAPI'\n",
    "    ),\n",
    "    \n",
    "]\n",
    "\n",
    "# densetargets = []\n",
    "# for a in np.logspace(0, -3, 10):\n",
    "#     densetargets.append(Solution(\n",
    "#         solutes=f\"FA{a:0.3f}_MA{1-a:.3f}_Pb_I3\",\n",
    "#         solvent=\"DMF9_DMSO1\",\n",
    "#         molarity=1,\n",
    "#         alias=f'FA_{a:.3f}'\n",
    "#     ))\n",
    "\n",
    "\n",
    "densetargets = []\n",
    "for a in np.linspace(0, 0.8, 4):\n",
    "    densetargets.append(Solution(\n",
    "        solutes=dict(\n",
    "            FA=a, \n",
    "            MA=1-a, \n",
    "            Pb=1, \n",
    "            I=3),\n",
    "        solvent=\"DMF9_DMSO1\",\n",
    "        molarity=1,\n",
    "        # alias=f'FA_{a:.3f}'\n",
    "    ))    "
   ]
  },
  {
   "cell_type": "code",
   "execution_count": 15,
   "metadata": {},
   "outputs": [],
   "source": [
    "sm = Mixer(stock_solutions, {t:60 for t in densetargets})"
   ]
  },
  {
   "cell_type": "code",
   "execution_count": 16,
   "metadata": {},
   "outputs": [],
   "source": [
    "sm.solve(min_volume=20, max_inputs = 3, strategy=\"prefer_stock\")"
   ]
  },
  {
   "cell_type": "code",
   "execution_count": 27,
   "metadata": {},
   "outputs": [
    {
     "name": "stdout",
     "output_type": "stream",
     "text": [
      "===== Stock Prep =====\n",
      "96.00 of 1M FA_Pb_I3 in DMF0.9_DMSO0.1\n",
      "144.00 of MAPI\n",
      "====== Mixing =====\n",
      "Distribute 1M FA_Pb_I3 in DMF0.9_DMSO0.1:\n",
      "\t61.71 to 1M FA0.533_MA0.467_Pb_I3 in DMF0.9_DMSO0.1\n",
      "\t34.29 to 1M FA0.8_MA0.2_Pb_I3 in DMF0.9_DMSO0.1\n",
      "Distribute MAPI:\n",
      "\t54.00 to 1M FA0.533_MA0.467_Pb_I3 in DMF0.9_DMSO0.1\n",
      "\t60.00 to 1M MA_Pb_I3 in DMF0.9_DMSO0.1\n",
      "\t30.00 to 1M FA0.267_MA0.733_Pb_I3 in DMF0.9_DMSO0.1\n",
      "Distribute 1M FA0.533_MA0.467_Pb_I3 in DMF0.9_DMSO0.1:\n",
      "\t30.00 to 1M FA0.267_MA0.733_Pb_I3 in DMF0.9_DMSO0.1\n",
      "\t25.71 to 1M FA0.8_MA0.2_Pb_I3 in DMF0.9_DMSO0.1\n"
     ]
    }
   ],
   "source": [
    "sm.print()"
   ]
  },
  {
   "cell_type": "code",
   "execution_count": 28,
   "metadata": {},
   "outputs": [
    {
     "data": {
      "image/png": "[encoded data removed]",
      "text/plain": [
       "<Figure size 432x432 with 1 Axes>"
      ]
     },
     "metadata": {
      "needs_background": "light"
     },
     "output_type": "display_data"
    }
   ],
   "source": [
    "fig, ax = plt.subplots(figsize=(6,6))\n",
    "sm.plot(ax=ax)"
   ]
  },
  {
   "cell_type": "code",
   "execution_count": null,
   "metadata": {},
   "outputs": [],
   "source": []
  }
 ],
 "metadata": {
  "interpreter": {
   "hash": "e550aae00514e232b011b8daa9c111018f6799cbdd6b2b8c856d7d4b57330518"
  },
  "kernelspec": {
   "display_name": "Python 3.8.0 64-bit ('pascal': conda)",
   "name": "python3"
  },
  "language_info": {
   "codemirror_mode": {
    "name": "ipython",
    "version": 3
   },
   "file_extension": ".py",
   "mimetype": "text/x-python",
   "name": "python",
   "nbconvert_exporter": "python",
   "pygments_lexer": "ipython3",
   "version": "3.8.12"
  },
  "orig_nbformat": 4
 },
 "nbformat": 4,
 "nbformat_minor": 2
}
