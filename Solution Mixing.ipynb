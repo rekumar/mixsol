{
 "cells": [
  {
   "cell_type": "code",
   "execution_count": 498,
   "source": [
    "import numpy as np\n",
    "import csv\n",
    "%matplotlib inline\n",
    "import pandas as pd\n",
    "from frgpascal.hardware.sampletray import SampleTray, AVAILABLE_VERSIONS as sampletray_versions\n",
    "from frgpascal.hardware.liquidlabware import LiquidLabware, AVAILABLE_VERSIONS as liquid_labware_versions\n",
    "from frgpascal.hardware.hotplate import AVAILABLE_VERSIONS as hotplate_versions\n",
    "from frgpascal.experimentaldesign.helpers import build_sample_list, plot_tray, handle_liquids, samples_to_dataframe\n",
    "from frgpascal.experimentaldesign.tasks import *\n",
    "from frgpascal.experimentaldesign.scheduler import Scheduler\n",
    "\n",
    "from scipy.optimize import nnls\n",
    "import itertools as itt"
   ],
   "outputs": [],
   "metadata": {}
  },
  {
   "cell_type": "code",
   "execution_count": 499,
   "source": [
    "#### name parsing helper functions\n",
    "def components_to_name(components, delimiter=\"_\"):\n",
    "    composition_label = \"\"\n",
    "    for c, n in components.items():\n",
    "        if n > 0:\n",
    "            composition_label += \"{0}{1:.2f}{2}\".format(c, n, delimiter)\n",
    "\n",
    "    return composition_label[:-1]\n",
    "\n",
    "\n",
    "def name_to_components(\n",
    "    name,\n",
    "    factor=1,\n",
    "    delimiter=\"_\",\n",
    "):\n",
    "    \"\"\"\n",
    "    given a chemical formula, returns dictionary with individual components/amounts\n",
    "    expected name format = 'MA0.5_FA0.5_Pb1_I2_Br1'.\n",
    "    would return dictionary with keys ['MA, FA', 'Pb', 'I', 'Br'] and values [0.5,.05,1,2,1]*factor\n",
    "    \"\"\"\n",
    "    components = {}\n",
    "    for part in name.split(delimiter):\n",
    "        species = part\n",
    "        count = 1.0\n",
    "        for l in range(len(part), 0, -1):\n",
    "            try:\n",
    "                count = float(part[-l:])\n",
    "                species = part[:-l]\n",
    "                break\n",
    "            except:\n",
    "                pass\n",
    "        if species == \"\":\n",
    "            continue\n",
    "        components[species] = count * factor\n",
    "    return components\n"
   ],
   "outputs": [],
   "metadata": {}
  },
  {
   "cell_type": "code",
   "execution_count": 500,
   "source": [
    "def solutions_to_matrix(solutions:list):\n",
    "    if isinstance(solutions, Solution):\n",
    "        solutions = [solutions]\n",
    "\n",
    "    # get possible solution components from stock list\n",
    "    components = set()\n",
    "    for s in solutions:\n",
    "        components.update(s.solute_dict.keys(), s.solvent_dict.keys())\n",
    "    components = list(\n",
    "        components\n",
    "    )  # sets are not order-preserving, lists are - just safer this way\n",
    "\n",
    "    # organize components into a stock matrix, keep track of which rows are solvents\n",
    "    stock_matrix = np.zeros((len(components), len(solutions)))\n",
    "    solvent_idx = set()\n",
    "    for n, s in enumerate(solutions):\n",
    "        for m, c in enumerate(components):\n",
    "            if c in s.solute_dict:\n",
    "                stock_matrix[m, n] = s.solute_dict[c] * s.molarity\n",
    "            elif c in s.solvent_dict:\n",
    "                stock_matrix[m, n] = s.solvent_dict[c]\n",
    "                solvent_idx.add(m)\n",
    "    solvent_idx = list(solvent_idx)\n",
    "\n",
    "    return stock_matrix\n",
    "    "
   ],
   "outputs": [],
   "metadata": {}
  },
  {
   "cell_type": "code",
   "execution_count": 10,
   "source": [
    "target_solutions = [\n",
    "    Solution(\n",
    "        solutes='MA_Pb_I3',\n",
    "        solvent='DMF9_DMSO1',\n",
    "        molarity=1\n",
    "    ),\n",
    "    Solution(\n",
    "        solutes='FA_Pb_I3',\n",
    "        solvent='DMF9_DMSO1',\n",
    "        molarity=1\n",
    "    ),\n",
    "    Solution(\n",
    "        solutes='FA0.25_MA0.75_Pb_I3',\n",
    "        solvent='DMF9_DMSO1',\n",
    "        molarity=1\n",
    "    ),\n",
    "    Solution(\n",
    "        solutes='FA0.75_MA0.25_Pb_I3',\n",
    "        solvent='DMF9_DMSO1',\n",
    "        molarity=1\n",
    "    ),\n",
    "    Solution(\n",
    "        solutes='MA0.5_FA0.5_Pb_I3',\n",
    "        solvent='DMF9_DMSO1',\n",
    "        molarity=1\n",
    "    ),\n",
    "]\n"
   ],
   "outputs": [],
   "metadata": {}
  },
  {
   "cell_type": "code",
   "execution_count": 11,
   "source": [
    "stock_solutions = [\n",
    "    Solution(\n",
    "        solutes='MA_Pb_I3',\n",
    "        solvent='DMF9_DMSO1',\n",
    "        molarity=1\n",
    "    ),\n",
    "    Solution(\n",
    "        solutes='FA_Pb_I3',\n",
    "        solvent='DMF9_DMSO1',\n",
    "        molarity=1\n",
    "    ),\n",
    "    Solution(\n",
    "        solvent='DMF',\n",
    "    ),\n",
    "    Solution(\n",
    "        solvent='DMSO',\n",
    "    ),\n",
    "    Solution(\n",
    "        solvent='Chlorobenzene',\n",
    "    ),\n",
    "    Solution(\n",
    "        solvent='MethylAcetate',\n",
    "    ),\n",
    "    Solution(\n",
    "        solutes='spiro',\n",
    "        solvent='IPA',\n",
    "        molarity=1\n",
    "    ),\n",
    "]"
   ],
   "outputs": [],
   "metadata": {}
  },
  {
   "cell_type": "code",
   "execution_count": 12,
   "source": [
    "target = Solution(\n",
    "        solutes='MA0.2_FA0.8_Pb_I3',\n",
    "        solvent='DMF9_DMSO1',\n",
    "        molarity=1\n",
    "    )"
   ],
   "outputs": [],
   "metadata": {}
  },
  {
   "cell_type": "code",
   "execution_count": 510,
   "source": [
    "class SolutionMixer:\n",
    "    def __init__(self, stock_solutions:list, targets:dict={}):\n",
    "        self.target_solutions = list(targets.keys())\n",
    "        self.target_volumes = targets #dict of solution:volume\n",
    "        self.solutions = stock_solutions + self.target_solutions\n",
    "        self.solution_matrix, self.solvent_idx, self.components = self._solutions_to_matrix(stock_solutions + self.target_solutions)\n",
    "        self.stock_idx = [i for i in range(len(stock_solutions))] #rows of solution matrix that belong to stock solutions\n",
    "\n",
    "    def _solutions_to_matrix(self, solutions:list, components:list = None):\n",
    "        \"\"\"Converts a list of solutions into a matrix of molarity of each component in each solution\n",
    "\n",
    "        Args:\n",
    "            solutions (list): Solution objects\n",
    "            components (list, optional): individual components that cover all solutions. If none, will generate this from the solution list\n",
    "\n",
    "        Returns:\n",
    "            solution_matrix, solvent_idx, components\n",
    "\n",
    "            solution_matrix = rows are solutions, columns are components\n",
    "\n",
    "        \"\"\"\n",
    "        if isinstance(solutions, Solution):\n",
    "            solutions = [solutions]\n",
    "\n",
    "        # get possible solution components from stock list\n",
    "        if components is None:\n",
    "            components = set()\n",
    "            for s in solutions:\n",
    "                components.update(s.solute_dict.keys(), s.solvent_dict.keys())\n",
    "            components = list(\n",
    "                components\n",
    "            )  # sets are not order-preserving, lists are - just safer this way\n",
    "\n",
    "        # organize components into a stock matrix, keep track of which rows are solvents\n",
    "        solution_matrix = np.zeros((len(solutions), len(components)))\n",
    "        solvent_idx = set()\n",
    "        for m, s in enumerate(solutions):\n",
    "            for n, c in enumerate(components):\n",
    "                if c in s.solute_dict:\n",
    "                    solution_matrix[m, n] = s.solute_dict[c] * s.molarity\n",
    "                elif c in s.solvent_dict:\n",
    "                    solution_matrix[m, n] = s.solvent_dict[c]\n",
    "                    solvent_idx.add(m)\n",
    "        solvent_idx = list(solvent_idx)\n",
    "        \n",
    "        return solution_matrix, solvent_idx, components\n",
    "\n",
    "    def _solution_to_vector(self, target:Solution, volume=1):\n",
    "        # organize target solution into a matrix of total mols desired of each component\n",
    "        target_matrix = np.zeros((len(self.components),))\n",
    "        for m, c in enumerate(self.components):\n",
    "            if c in target.solute_dict:\n",
    "                target_matrix[m] = target.solute_dict[c] * target.molarity * volume\n",
    "            elif c in target.solvent_dict:\n",
    "                target_matrix[m] = target.solvent_dict[c] * volume\n",
    "        return target_matrix.T\n",
    "\n",
    "    def _calculate_mix(self, target, solution_indices:list=None, tolerance=1e-3, min_fraction=0):\n",
    "        if solution_indices is None:\n",
    "            solution_indices = list(range(len(self.solutions)))\n",
    "        A = self.solution_matrix[solution_indices]\n",
    "        b = self._solution_to_vector(target)\n",
    "        x, err = nnls(A.T, b, maxiter=1e3)\n",
    "        x[x<1e-10] = 0\n",
    "        if err > tolerance:\n",
    "            return np.nan\n",
    "        if np.logical_and(x > 0, x<min_fraction).any():\n",
    "            return np.nan\n",
    "        \n",
    "        x_full = np.zeros((len(self.solutions),))\n",
    "        for idx, x_ in zip(solution_indices, x):\n",
    "            x_full[idx] = x_\n",
    "        return x_full\n",
    "\n",
    "    def mix(self, target, volume, solution_indices = None, tolerance=1e-3, min_volume=0, verbose=False):\n",
    "        min_fraction = min_volume / volume\n",
    "        if solution_indices is None or solution_indices == 'stock':\n",
    "            solution_indices = self.stock_idx\n",
    "        elif solution_indices == 'all':\n",
    "            solution_indices = list(range(len(self.solutions)))\n",
    "\n",
    "        possible_mixtures = []\n",
    "        for i in range(1,len(self.solutions)):\n",
    "            for idx in itt.combinations(solution_indices,i):\n",
    "                x = self._calculate_mix(target, solution_indices=list(idx), tolerance=tolerance, min_fraction=min_fraction)\n",
    "                if not np.isnan(x).any():\n",
    "                    possible_mixtures.append(x)\n",
    "        if len(possible_mixtures) == 0:\n",
    "            return np.nan\n",
    "        possible_mixtures.sort(key = lambda x: -min(x[x>0])) #sort such that the mixture with the largest minimum fraction is first\n",
    "        if verbose:\n",
    "            return possible_mixtures*volume\n",
    "        return possible_mixtures[0]*volume\n",
    "\n",
    "    def mixture_graph(self, min_volume=20):\n",
    "        self.graph = np.zeros((len(self.solutions), len(self.solutions)))\n",
    "        self.availableidx = self.stock_idx.copy()\n",
    "        # self.graph[np.diag_indices(len(self.solutions))] = 1\n",
    "        attempts = 0\n",
    "        while len(self.availableidx) < len(self.solutions):\n",
    "            if attempts > 5:\n",
    "                print('Could not find a solution') \n",
    "                break\n",
    "            for i in range(len(self.solutions)):\n",
    "                if i in self.availableidx:\n",
    "                    continue\n",
    "                x = self.mix(\n",
    "                    target=self.solutions[i],\n",
    "                    volume = self.target_volumes[self.solutions[i]],\n",
    "                    solution_indices=self.availableidx,\n",
    "                    min_volume=min_volume)\n",
    "                if not np.isnan(x).any():\n",
    "                    self.graph[i,:] = x\n",
    "                    self.availableidx.append(i)\n",
    "            attempts += 1\n",
    "        # return self.graph\n",
    "    \n",
    "\n",
    "\n",
    "\n",
    "\n",
    "\n"
   ],
   "outputs": [],
   "metadata": {}
  },
  {
   "cell_type": "code",
   "execution_count": 511,
   "source": [
    "densetargets = []\n",
    "for i in np.linspace(0.1, 0.5, 10):\n",
    "    densetargets.append(Solution(\n",
    "        solutes=f\"MA{i:.2f}_FA{1-i:.2f}_Pb_I3\",\n",
    "        solvent=\"DMF9_DMSO1\",\n",
    "        molarity=1\n",
    "    ))"
   ],
   "outputs": [],
   "metadata": {}
  },
  {
   "cell_type": "code",
   "execution_count": 512,
   "source": [
    "sm = SolutionMixer(stock_solutions, {t:60 for t in densetargets})"
   ],
   "outputs": [],
   "metadata": {}
  },
  {
   "cell_type": "code",
   "execution_count": 573,
   "source": [
    "sm.mixture_graph(min_volume=25)"
   ],
   "outputs": [],
   "metadata": {}
  },
  {
   "cell_type": "code",
   "execution_count": 587,
   "source": [
    "edges = [\n",
    "    (\n",
    "        sm.solutions[m],\n",
    "        sm.solutions[n],\n",
    "        sm.graph[m,n]\n",
    "    ) for m,n in np.ndindex(sm.graph.shape)\n",
    "    if sm.graph[m,n] > 0\n",
    "    ]\n",
    "g = nx.DiGraph()\n",
    "g.add_weighted_edges_from(edges)"
   ],
   "outputs": [],
   "metadata": {}
  },
  {
   "cell_type": "code",
   "execution_count": 588,
   "source": [
    "nodelist = [n for n in g.nodes]"
   ],
   "outputs": [],
   "metadata": {}
  },
  {
   "cell_type": "code",
   "execution_count": 589,
   "source": [
    "gmat = nx.convert_matrix.to_numpy_matrix(g, nodelist=nodelist)"
   ],
   "outputs": [],
   "metadata": {}
  },
  {
   "cell_type": "code",
   "execution_count": 592,
   "source": [
    "gmat.sum(axis=0)"
   ],
   "outputs": [
    {
     "output_type": "execute_result",
     "data": {
      "text/plain": [
       "matrix([[ 30.        , 182.71304348,  56.08695652,   0.        ,\n",
       "          90.        ,   0.        ,  86.66666667,  33.6       ,\n",
       "           0.        ,  30.        ,  33.33333333,  57.6       ]])"
      ]
     },
     "metadata": {},
     "execution_count": 592
    }
   ],
   "metadata": {}
  },
  {
   "cell_type": "code",
   "execution_count": 590,
   "source": [
    "gmat[gmat>0].min()"
   ],
   "outputs": [
    {
     "output_type": "execute_result",
     "data": {
      "text/plain": [
       "26.086956521739143"
      ]
     },
     "metadata": {},
     "execution_count": 590
    }
   ],
   "metadata": {}
  },
  {
   "cell_type": "code",
   "execution_count": 579,
   "source": [
    "[gen for gen in nx.topological_generations(g)][::-1]\n"
   ],
   "outputs": [
    {
     "output_type": "execute_result",
     "data": {
      "text/plain": [
       "[[0, 1], [16], [11, 15], [10, 13], [7, 14], [8, 9, 12]]"
      ]
     },
     "metadata": {},
     "execution_count": 579
    }
   ],
   "metadata": {}
  },
  {
   "cell_type": "code",
   "execution_count": 523,
   "source": [],
   "outputs": [
    {
     "output_type": "execute_result",
     "data": {
      "text/plain": [
       "[[<Solution>1M MA0.10_FA0.90_Pb_I3 in DMF9_DMSO1,\n",
       "  <Solution>1M MA0.14_FA0.86_Pb_I3 in DMF9_DMSO1,\n",
       "  <Solution>1M MA0.28_FA0.72_Pb_I3 in DMF9_DMSO1,\n",
       "  <Solution>1M MA0.32_FA0.68_Pb_I3 in DMF9_DMSO1,\n",
       "  <Solution>1M MA0.50_FA0.50_Pb_I3 in DMF9_DMSO1],\n",
       " [<Solution>1M MA0.19_FA0.81_Pb_I3 in DMF9_DMSO1,\n",
       "  <Solution>1M MA0.23_FA0.77_Pb_I3 in DMF9_DMSO1,\n",
       "  <Solution>1M MA0.41_FA0.59_Pb_I3 in DMF9_DMSO1],\n",
       " [<Solution>1M MA0.37_FA0.63_Pb_I3 in DMF9_DMSO1,\n",
       "  <Solution>1M MA0.46_FA0.54_Pb_I3 in DMF9_DMSO1],\n",
       " [<Solution>1M MA_Pb_I3 in DMF9_DMSO1, <Solution>1M FA_Pb_I3 in DMF9_DMSO1]]"
      ]
     },
     "metadata": {},
     "execution_count": 523
    }
   ],
   "metadata": {}
  },
  {
   "cell_type": "code",
   "execution_count": 521,
   "source": [
    "next(gen)"
   ],
   "outputs": [
    {
     "output_type": "error",
     "ename": "StopIteration",
     "evalue": "",
     "traceback": [
      "\u001b[0;31m---------------------------------------------------------------------------\u001b[0m",
      "\u001b[0;31mStopIteration\u001b[0m                             Traceback (most recent call last)",
      "\u001b[0;32m<ipython-input-521-6e72e47198db>\u001b[0m in \u001b[0;36m<module>\u001b[0;34m\u001b[0m\n\u001b[0;32m----> 1\u001b[0;31m \u001b[0mnext\u001b[0m\u001b[0;34m(\u001b[0m\u001b[0mgen\u001b[0m\u001b[0;34m)\u001b[0m\u001b[0;34m\u001b[0m\u001b[0;34m\u001b[0m\u001b[0m\n\u001b[0m",
      "\u001b[0;31mStopIteration\u001b[0m: "
     ]
    }
   ],
   "metadata": {}
  },
  {
   "cell_type": "code",
   "execution_count": null,
   "source": [],
   "outputs": [],
   "metadata": {}
  }
 ],
 "metadata": {
  "orig_nbformat": 4,
  "language_info": {
   "name": "python",
   "version": "3.8.0",
   "mimetype": "text/x-python",
   "codemirror_mode": {
    "name": "ipython",
    "version": 3
   },
   "pygments_lexer": "ipython3",
   "nbconvert_exporter": "python",
   "file_extension": ".py"
  },
  "kernelspec": {
   "name": "python3",
   "display_name": "Python 3.8.0 64-bit ('pascal': conda)"
  },
  "interpreter": {
   "hash": "e550aae00514e232b011b8daa9c111018f6799cbdd6b2b8c856d7d4b57330518"
  }
 },
 "nbformat": 4,
 "nbformat_minor": 2
}