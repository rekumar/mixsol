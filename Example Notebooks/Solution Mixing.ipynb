{
 "cells": [
  {
   "cell_type": "code",
   "execution_count": 1,
   "source": [
    "import numpy as np\n",
    "import matplotlib.pyplot as plt\n",
    "from mixsol import Powder, Solution, Weigher, Mixer, calculate_molar_mass"
   ],
   "outputs": [],
   "metadata": {}
  },
  {
   "cell_type": "markdown",
   "source": [
    "# Powder Weighing"
   ],
   "metadata": {}
  },
  {
   "cell_type": "code",
   "execution_count": 2,
   "source": [
    "powders = [\n",
    "    Powder('Cs_I'),\n",
    "    Powder('Pb_I2'),\n",
    "    Powder('Pb_Br2'),\n",
    "    Powder('Pb_Cl2'),\n",
    "    Powder(\n",
    "        formula='MA_I',\n",
    "        molar_mass=calculate_molar_mass('C_H6_N_I'),\n",
    "        alias='MAI',\n",
    "    ),\n",
    "    Powder(\n",
    "        formula='FA_I',\n",
    "        molar_mass = calculate_molar_mass('C_H5_N2_I'),\n",
    "        alias='FAI',\n",
    "        )\n",
    "]\n",
    "\n",
    "weigher = Weigher(\n",
    "    powders=powders\n",
    ")"
   ],
   "outputs": [],
   "metadata": {}
  },
  {
   "cell_type": "code",
   "execution_count": 3,
   "source": [
    "target=Solution(\n",
    "    solutes='Cs0.05_FA0.8_MA0.15_Pb_I2.4_Br0.45_Cl0.15',\n",
    "    solvent='DMF9_DMSO1',\n",
    "    molarity=1\n",
    ")\n",
    "\n",
    "answer = weigher.get_weights(\n",
    "    target,\n",
    "    volume=1e-3, #in L\n",
    ")\n",
    "print(answer) #masses of each powder, in grams"
   ],
   "outputs": [
    {
     "output_type": "stream",
     "name": "stdout",
     "text": [
      "{'Cs_I': 0.012990496098, 'Pb_I2': 0.322706258, 'Pb_Br2': 0.082576575, 'Pb_Cl2': 0.020857935, 'MAI': 0.02384543385, 'FAI': 0.1375746568}\n"
     ]
    }
   ],
   "metadata": {}
  },
  {
   "cell_type": "code",
   "execution_count": 4,
   "source": [
    "result = weigher.weights_to_solution(\n",
    "    weights=answer,\n",
    "    volume=1e-3,\n",
    "    solvent='DMF9_DMSO1',\n",
    "    norm='Pb'\n",
    ")\n",
    "print(result)"
   ],
   "outputs": [
    {
     "output_type": "stream",
     "name": "stdout",
     "text": [
      "1.0M Cs0.05_I2.4_Pb_MA0.15_Br0.45_Cl0.15_FA0.8 in DMF9_DMSO1\n"
     ]
    }
   ],
   "metadata": {}
  },
  {
   "cell_type": "code",
   "execution_count": 5,
   "source": [
    "result == target"
   ],
   "outputs": [
    {
     "output_type": "execute_result",
     "data": {
      "text/plain": [
       "True"
      ]
     },
     "metadata": {},
     "execution_count": 5
    }
   ],
   "metadata": {}
  },
  {
   "cell_type": "markdown",
   "source": [
    "# Solutions"
   ],
   "metadata": {}
  },
  {
   "cell_type": "code",
   "execution_count": 6,
   "source": [
    "stock_solutions = [\n",
    "    Solution(\n",
    "        solutes='FA_Pb_I3',\n",
    "        solvent='DMF9_DMSO1',\n",
    "        molarity=1,\n",
    "        alias='FAPI'\n",
    "    ),\n",
    "    Solution(\n",
    "        solutes='MA_Pb_I3',\n",
    "        solvent='DMF9_DMSO1',\n",
    "        molarity=1,\n",
    "        alias='MAPI'\n",
    "    ),\n",
    "    \n",
    "]\n",
    "\n",
    "# densetargets = []\n",
    "# for a in np.logspace(0, -3, 10):\n",
    "#     densetargets.append(Solution(\n",
    "#         solutes=f\"FA{a:0.3f}_MA{1-a:.3f}_Pb_I3\",\n",
    "#         solvent=\"DMF9_DMSO1\",\n",
    "#         molarity=1,\n",
    "#         alias=f'FA_{a:.3f}'\n",
    "#     ))\n",
    "\n",
    "\n",
    "densetargets = []\n",
    "for a in np.linspace(0, 0.8, 5):\n",
    "    densetargets.append(Solution(\n",
    "        solutes=f\"FA{a:0.3f}_MA{1-a:.3f}_Pb_I3\",\n",
    "        solvent=\"DMF9_DMSO1\",\n",
    "        molarity=1,\n",
    "        alias=f'FA_{a:.3f}'\n",
    "    ))"
   ],
   "outputs": [],
   "metadata": {}
  },
  {
   "cell_type": "code",
   "execution_count": 7,
   "source": [
    "densetargets"
   ],
   "outputs": [
    {
     "output_type": "execute_result",
     "data": {
      "text/plain": [
       "[<Solution>FA_0.000,\n",
       " <Solution>FA_0.200,\n",
       " <Solution>FA_0.400,\n",
       " <Solution>FA_0.600,\n",
       " <Solution>FA_0.800]"
      ]
     },
     "metadata": {},
     "execution_count": 7
    }
   ],
   "metadata": {}
  },
  {
   "cell_type": "code",
   "execution_count": 8,
   "source": [
    "sm = Mixer(stock_solutions, {t:60 for t in densetargets})"
   ],
   "outputs": [],
   "metadata": {}
  },
  {
   "cell_type": "code",
   "execution_count": 9,
   "source": [
    "sm.solve(min_volume=20, max_inputs = 3)"
   ],
   "outputs": [],
   "metadata": {}
  },
  {
   "cell_type": "code",
   "execution_count": 10,
   "source": [
    "sm.print()"
   ],
   "outputs": [
    {
     "output_type": "stream",
     "name": "stdout",
     "text": [
      "===== Stock Prep =====\n",
      "120.00 of FAPI\n",
      "180.00 of MAPI\n",
      "====== Mixing =====\n",
      "Distribute FAPI:\n",
      "\t36.00 to FA_0.400\n",
      "\t54.00 to FA_0.600\n",
      "\t30.00 to FA_0.800\n",
      "Distribute MAPI:\n",
      "\t60.00 to FA_0.000\n",
      "\t54.00 to FA_0.400\n",
      "\t36.00 to FA_0.600\n",
      "\t30.00 to FA_0.200\n",
      "Distribute FA_0.400:\n",
      "\t30.00 to FA_0.200\n",
      "Distribute FA_0.600:\n",
      "\t30.00 to FA_0.800\n"
     ]
    }
   ],
   "metadata": {}
  },
  {
   "cell_type": "code",
   "execution_count": 12,
   "source": [
    "fig, ax = plt.subplots(figsize=(6,6))\n",
    "sm.plot(ax=ax)"
   ],
   "outputs": [
    {
     "output_type": "display_data",
     "data": {
      "image/png": "[encoded data removed]",
      "text/plain": [
       "<Figure size 432x432 with 1 Axes>"
      ]
     },
     "metadata": {
      "needs_background": "light"
     }
    }
   ],
   "metadata": {}
  },
  {
   "cell_type": "code",
   "execution_count": null,
   "source": [],
   "outputs": [],
   "metadata": {}
  }
 ],
 "metadata": {
  "orig_nbformat": 4,
  "language_info": {
   "name": "python",
   "version": "3.8.0",
   "mimetype": "text/x-python",
   "codemirror_mode": {
    "name": "ipython",
    "version": 3
   },
   "pygments_lexer": "ipython3",
   "nbconvert_exporter": "python",
   "file_extension": ".py"
  },
  "kernelspec": {
   "name": "python3",
   "display_name": "Python 3.8.0 64-bit ('pascal': conda)"
  },
  "interpreter": {
   "hash": "e550aae00514e232b011b8daa9c111018f6799cbdd6b2b8c856d7d4b57330518"
  }
 },
 "nbformat": 4,
 "nbformat_minor": 2
}