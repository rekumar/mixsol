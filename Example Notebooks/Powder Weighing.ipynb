{
 "cells": [
  {
   "cell_type": "code",
   "execution_count": 1,
   "metadata": {},
   "outputs": [],
   "source": [
    "import mixsol as mx"
   ]
  },
  {
   "cell_type": "markdown",
   "metadata": {},
   "source": [
    "Create a list of `Powder` objects, each referring to a solid reagent that can be used to create target `Solution`s"
   ]
  },
  {
   "cell_type": "code",
   "execution_count": 2,
   "metadata": {},
   "outputs": [],
   "source": [
    "powders = [\n",
    "    mx.Powder('Cs_I'), #if only using elements, you can simply input the formula delimited by underscores\n",
    "    mx.Powder({'Pb':1, 'I':2}), #you can also use a dictionary to specify the components\n",
    "    mx.Powder('Pb_Br2'),\n",
    "    mx.Powder('Pb_Cl2'),\n",
    "    mx.Powder(\n",
    "        formula='MA_I', #you can have components that are not element (like methylammonium/MA here), but then the molar mass must be specified\n",
    "        molar_mass=mx.calculate_molar_mass('C_H6_N_I'), #molar mass can either be given as a float value, or the helper function can take an elemental formula (as string or dict) and calculate the molar mass\n",
    "        alias='MAI', #you can also give an alias for the powder - this just changes the string representation of the powder when printed\n",
    "    ),\n",
    "    mx.Powder(\n",
    "        formula='FA_I',\n",
    "        molar_mass = mx.calculate_molar_mass('C_H5_N2_I'),\n",
    "        alias='FAI',\n",
    "        )\n",
    "]"
   ]
  },
  {
   "cell_type": "markdown",
   "metadata": {},
   "source": [
    "The list of available `Powder`'s is used to initialize a `Weigher` object, which can calculate the masses of powders required to make desired solutions"
   ]
  },
  {
   "cell_type": "code",
   "execution_count": 3,
   "metadata": {},
   "outputs": [],
   "source": [
    "weigher = mx.Weigher(\n",
    "    powders=powders\n",
    ")"
   ]
  },
  {
   "cell_type": "markdown",
   "metadata": {},
   "source": [
    "We can define a target `Solution`, then get the masses of our powders required to create that solution. Keep in mind that all volume/mass units are in SI units (liters, grams)"
   ]
  },
  {
   "cell_type": "code",
   "execution_count": 4,
   "metadata": {},
   "outputs": [
    {
     "name": "stdout",
     "output_type": "stream",
     "text": [
      "{'Cs_I': 0.00129904961, 'Pb461_I922': 7e-05, 'Pb_Br2': 0.0082576575, 'Pb_Cl2': 0.0020857935, 'MAI': 0.002384543385, 'FAI': 0.01375746568}\n"
     ]
    }
   ],
   "source": [
    "target=mx.Solution(\n",
    "    solutes='Cs0.05_FA0.8_MA0.15_Pb_I2.4_Br0.45_Cl0.15',\n",
    "    solvent='DMF9_DMSO1',\n",
    "    molarity=1\n",
    ")\n",
    "\n",
    "masses = weigher.get_weights(\n",
    "    target,\n",
    "    volume=100e-6, #in L\n",
    ")\n",
    "print(masses) #masses of each powder, in grams"
   ]
  },
  {
   "cell_type": "markdown",
   "metadata": {},
   "source": [
    "We can also go the other way -- given a dictionary of masses of powders and a volume of solvent, the resulting `Solution` can be computed"
   ]
  },
  {
   "cell_type": "code",
   "execution_count": 5,
   "metadata": {},
   "outputs": [
    {
     "name": "stdout",
     "output_type": "stream",
     "text": [
      "2.4M Cs0.0208_Br0.187_Cl0.0625_I_FA0.333_Pb0.417_MA0.0625 in DMF0.9_DMSO0.1\n"
     ]
    }
   ],
   "source": [
    "result = weigher.weights_to_solution(\n",
    "    weights=masses, #the dictionary of masses we just created\n",
    "    volume=100e-6, #volume of solution (L) \n",
    "    solvent='DMF9_DMSO1', #solvent system\n",
    ")\n",
    "print(result)"
   ]
  },
  {
   "cell_type": "code",
   "execution_count": 6,
   "metadata": {},
   "outputs": [
    {
     "data": {
      "text/plain": [
       "True"
      ]
     },
     "execution_count": 6,
     "metadata": {},
     "output_type": "execute_result"
    }
   ],
   "source": [
    "result == target #we made it back to our target solution!"
   ]
  },
  {
   "cell_type": "markdown",
   "metadata": {},
   "source": [
    "Note that while the string representation of the result `Solution` looks quite different from the original target `Solution`, the two are still equivalent. The issue is that the molarity of the resulting solution is not known, and by default is set to the amount of the component of highest molarity.\n",
    "\n",
    "We can control this by setting the molarity when computing the result `Solution`, though note that this is only for aesthetics - under the hood, the total moles of each component will be unchanged. molarity can be set in three ways: by a set value, by a single component, or by a list of components to which the molarity will be normalized"
   ]
  },
  {
   "cell_type": "code",
   "execution_count": 7,
   "metadata": {},
   "outputs": [
    {
     "name": "stdout",
     "output_type": "stream",
     "text": [
      "1M Cs0.05_Br0.45_Cl0.15_I2.4_FA0.8_Pb1_MA0.15 in DMF0.9_DMSO0.1\n"
     ]
    }
   ],
   "source": [
    "result_fixedmolarity = weigher.weights_to_solution(\n",
    "    weights=masses,\n",
    "    volume=100e-6,\n",
    "    solvent='DMF9_DMSO1',\n",
    "    molarity=1\n",
    ")\n",
    "print(result_fixedmolarity)"
   ]
  },
  {
   "cell_type": "code",
   "execution_count": 8,
   "metadata": {},
   "outputs": [
    {
     "name": "stdout",
     "output_type": "stream",
     "text": [
      "1M Cs0.05_Br0.45_Cl0.15_I2.4_FA0.8_Pb_MA0.15 in DMF0.9_DMSO0.1\n"
     ]
    }
   ],
   "source": [
    "result_singlecomponent = weigher.weights_to_solution(\n",
    "    weights=masses,\n",
    "    volume=100e-6,\n",
    "    solvent='DMF9_DMSO1',\n",
    "    molarity=\"Pb\"\n",
    ")\n",
    "print(result_singlecomponent)"
   ]
  },
  {
   "cell_type": "code",
   "execution_count": 16,
   "metadata": {},
   "outputs": [
    {
     "name": "stdout",
     "output_type": "stream",
     "text": [
      "3M Cs0.0167_Br0.15_Cl0.05_I0.8_FA0.267_Pb0.333_MA0.05 in DMF0.9_DMSO0.1\n"
     ]
    }
   ],
   "source": [
    "result_multicomponent = weigher.weights_to_solution(\n",
    "    weights=masses,\n",
    "    volume=100e-6,\n",
    "    solvent='DMF9_DMSO1',\n",
    "    molarity=[\"I\", \"Br\", \"Cl\"]\n",
    ")\n",
    "print(result_multicomponent)"
   ]
  },
  {
   "cell_type": "code",
   "execution_count": 21,
   "metadata": {},
   "outputs": [
    {
     "data": {
      "text/plain": [
       "True"
      ]
     },
     "execution_count": 21,
     "metadata": {},
     "output_type": "execute_result"
    }
   ],
   "source": [
    "result == result_singlecomponent == result_multicomponent == result_fixedmolarity #all methods give the same result!"
   ]
  }
 ],
 "metadata": {
  "interpreter": {
   "hash": "cb679740e72a943445755ca66cc215891c17e02fe2436520f7971a4a67808c5a"
  },
  "kernelspec": {
   "display_name": "Python 3.8.12 ('pascal')",
   "language": "python",
   "name": "python3"
  },
  "language_info": {
   "codemirror_mode": {
    "name": "ipython",
    "version": 3
   },
   "file_extension": ".py",
   "mimetype": "text/x-python",
   "name": "python",
   "nbconvert_exporter": "python",
   "pygments_lexer": "ipython3",
   "version": "3.8.12"
  },
  "orig_nbformat": 4
 },
 "nbformat": 4,
 "nbformat_minor": 2
}
